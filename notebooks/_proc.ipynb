{
 "cells": [
  {
   "cell_type": "code",
   "execution_count": 18,
   "id": "34ab7c5a",
   "metadata": {},
   "outputs": [
    {
     "name": "stderr",
     "output_type": "stream",
     "text": [
      "/home/teddy/miniconda3/envs/gsnn-lib/lib/python3.12/site-packages/torch_geometric/typing.py:124: UserWarning: An issue occurred while importing 'torch-sparse'. Disabling its usage. Stacktrace: /home/teddy/miniconda3/envs/gsnn-lib/lib/python3.12/site-packages/torch_sparse/_version_cuda.so: undefined symbol: _ZN5torch3jit17parseSchemaOrNameERKSs\n",
      "  warnings.warn(f\"An issue occurred while importing 'torch-sparse'. \"\n"
     ]
    },
    {
     "name": "stdout",
     "output_type": "stream",
     "text": [
      "The autoreload extension is already loaded. To reload it, use:\n",
      "  %reload_ext autoreload\n"
     ]
    }
   ],
   "source": [
    "from lincs_gsnn.proc.get_bio_interactions import get_bio_interactions \n",
    "\n",
    "import torch \n",
    "import numpy as np\n",
    "import pandas as pd\n",
    "from lincs_gsnn.proc.subset import filter_func_nodes\n",
    "import torch_geometric as pyg\n",
    "\n",
    "%load_ext autoreload\n",
    "%autoreload 2"
   ]
  },
  {
   "cell_type": "code",
   "execution_count": 2,
   "id": "ba6d5b23",
   "metadata": {},
   "outputs": [],
   "source": [
    "# model output gene names \n",
    "gene_names = pd.read_csv('/home/teddy/local/lincs-traj/workflow/runs/exp/default_v02/output/predict_grid/gene_names.csv')['gene_names'].values.astype(str)\n",
    "landmark_mapping = pd.read_csv('../extdata/landmark_gene2uni.tsv', sep='\\t')"
   ]
  },
  {
   "cell_type": "code",
   "execution_count": 3,
   "id": "d46c0d86",
   "metadata": {},
   "outputs": [
    {
     "data": {
      "text/html": [
       "<div>\n",
       "<style scoped>\n",
       "    .dataframe tbody tr th:only-of-type {\n",
       "        vertical-align: middle;\n",
       "    }\n",
       "\n",
       "    .dataframe tbody tr th {\n",
       "        vertical-align: top;\n",
       "    }\n",
       "\n",
       "    .dataframe thead th {\n",
       "        text-align: right;\n",
       "    }\n",
       "</style>\n",
       "<table border=\"1\" class=\"dataframe\">\n",
       "  <thead>\n",
       "    <tr style=\"text-align: right;\">\n",
       "      <th></th>\n",
       "      <th>gene_symbol</th>\n",
       "      <th>uniprot_id</th>\n",
       "    </tr>\n",
       "  </thead>\n",
       "  <tbody>\n",
       "    <tr>\n",
       "      <th>0</th>\n",
       "      <td>GNPDA1</td>\n",
       "      <td>P46926</td>\n",
       "    </tr>\n",
       "    <tr>\n",
       "      <th>1</th>\n",
       "      <td>GNPDA1</td>\n",
       "      <td>D6R917</td>\n",
       "    </tr>\n",
       "    <tr>\n",
       "      <th>2</th>\n",
       "      <td>GNPDA1</td>\n",
       "      <td>D6R9P4</td>\n",
       "    </tr>\n",
       "    <tr>\n",
       "      <th>3</th>\n",
       "      <td>GNPDA1</td>\n",
       "      <td>D6RAY7</td>\n",
       "    </tr>\n",
       "    <tr>\n",
       "      <th>4</th>\n",
       "      <td>GNPDA1</td>\n",
       "      <td>D6RB13</td>\n",
       "    </tr>\n",
       "  </tbody>\n",
       "</table>\n",
       "</div>"
      ],
      "text/plain": [
       "  gene_symbol uniprot_id\n",
       "0      GNPDA1     P46926\n",
       "1      GNPDA1     D6R917\n",
       "2      GNPDA1     D6R9P4\n",
       "3      GNPDA1     D6RAY7\n",
       "4      GNPDA1     D6RB13"
      ]
     },
     "execution_count": 3,
     "metadata": {},
     "output_type": "execute_result"
    }
   ],
   "source": [
    "landmark_mapping = landmark_mapping.rename({'From': 'gene_symbol', 'Entry': 'uniprot_id'}, axis=1)[['gene_symbol', 'uniprot_id']]\n",
    "landmark_mapping.head()"
   ]
  },
  {
   "cell_type": "code",
   "execution_count": 4,
   "id": "38ce1cea",
   "metadata": {},
   "outputs": [
    {
     "name": "stdout",
     "output_type": "stream",
     "text": [
      "# of translation (RNA->PROTEIN) edges: 10000\n"
     ]
    }
   ],
   "source": [
    "func_names, func_df = get_bio_interactions(include_extra=True, include_mirna=True, dorothea_levels=['A', 'B', 'C', 'D'],)"
   ]
  },
  {
   "cell_type": "code",
   "execution_count": 5,
   "id": "f374ea0b",
   "metadata": {},
   "outputs": [
    {
     "name": "stdout",
     "output_type": "stream",
     "text": [
      "# RNA uniprots: 19584\n",
      "# PROT uniprots: 11272\n"
     ]
    }
   ],
   "source": [
    "rna_uniprots = [x.split('__')[1] for x in func_names if x.startswith('RNA__')] \n",
    "prot_uniprots = [x.split('__')[1] for x in func_names if x.startswith('PROTEIN__')]\n",
    "\n",
    "print('# RNA uniprots:', len(rna_uniprots))\n",
    "print('# PROT uniprots:', len(prot_uniprots))"
   ]
  },
  {
   "cell_type": "code",
   "execution_count": 6,
   "id": "59399ee8",
   "metadata": {},
   "outputs": [
    {
     "data": {
      "text/plain": [
       "(1013, 2)"
      ]
     },
     "execution_count": 6,
     "metadata": {},
     "output_type": "execute_result"
    }
   ],
   "source": [
    "landmark_mapping = landmark_mapping[lambda x: x.uniprot_id.isin(rna_uniprots)] \n",
    "landmark_mapping.shape"
   ]
  },
  {
   "cell_type": "code",
   "execution_count": 21,
   "id": "b2441e8d",
   "metadata": {},
   "outputs": [
    {
     "name": "stdout",
     "output_type": "stream",
     "text": [
      "0\n"
     ]
    }
   ],
   "source": [
    "# are there any duplicate gene->uni mappings?\n",
    "print(landmark_mapping.duplicated(subset=['gene_symbol']).sum())\n",
    "\n",
    "# there are duplicates, for now, we will just take the first one\n",
    "landmark_mapping = landmark_mapping.drop_duplicates(subset=['gene_symbol'])\n",
    "landmark_mapping.shape\n",
    "\n",
    "# convert to dict \n",
    "landmark_map_dict = landmark_mapping.set_index('gene_symbol')['uniprot_id'].to_dict() "
   ]
  },
  {
   "cell_type": "code",
   "execution_count": null,
   "id": "0bb9f498",
   "metadata": {},
   "outputs": [
    {
     "name": "stdout",
     "output_type": "stream",
     "text": [
      "8\n"
     ]
    }
   ],
   "source": [
    "drugs = pd.read_csv('/home/teddy/local/lincs-traj/workflow/runs/exp/default_v02/output/predict_grid/pert_ids.csv').pert_id.values.tolist() \n",
    "lines = pd.read_csv('/home/teddy/local/lincs-traj/workflow/runs/exp/default_v02/output/predict_grid/cell_inames.csv').cell_iname.values.tolist()\n",
    "print(len(drugs))\n",
    "\n",
    "clue_mapping = pd.read_csv('../../data/compoundinfo_beta.txt', sep='\\t')[['inchi_key', 'pert_id']].drop_duplicates() \n"
   ]
  },
  {
   "cell_type": "code",
   "execution_count": null,
   "id": "e0d3e6ce",
   "metadata": {},
   "outputs": [
    {
     "name": "stdout",
     "output_type": "stream",
     "text": [
      "(1185, 9)\n"
     ]
    },
    {
     "data": {
      "text/html": [
       "<div>\n",
       "<style scoped>\n",
       "    .dataframe tbody tr th:only-of-type {\n",
       "        vertical-align: middle;\n",
       "    }\n",
       "\n",
       "    .dataframe tbody tr th {\n",
       "        vertical-align: top;\n",
       "    }\n",
       "\n",
       "    .dataframe thead th {\n",
       "        text-align: right;\n",
       "    }\n",
       "</style>\n",
       "<table border=\"1\" class=\"dataframe\">\n",
       "  <thead>\n",
       "    <tr style=\"text-align: right;\">\n",
       "      <th></th>\n",
       "      <th>pubchem_cid</th>\n",
       "      <th>inchi_key</th>\n",
       "      <th>uniprot_id</th>\n",
       "      <th>pubmed_id</th>\n",
       "      <th>database</th>\n",
       "      <th>assay_type</th>\n",
       "      <th>assay_relation</th>\n",
       "      <th>assay_value</th>\n",
       "      <th>pert_id</th>\n",
       "    </tr>\n",
       "  </thead>\n",
       "  <tbody>\n",
       "    <tr>\n",
       "      <th>23067</th>\n",
       "      <td>5291</td>\n",
       "      <td>KTUFNOKKBVMGRW-UHFFFAOYSA-N</td>\n",
       "      <td>O00571</td>\n",
       "      <td>29191878.0</td>\n",
       "      <td>pubchem_bioassay</td>\n",
       "      <td>Kd</td>\n",
       "      <td>=</td>\n",
       "      <td>435.0</td>\n",
       "      <td>BRD-K92723993</td>\n",
       "    </tr>\n",
       "    <tr>\n",
       "      <th>23086</th>\n",
       "      <td>5291</td>\n",
       "      <td>KTUFNOKKBVMGRW-UHFFFAOYSA-N</td>\n",
       "      <td>O14976</td>\n",
       "      <td>18183025.0</td>\n",
       "      <td>pubchem_bioassay</td>\n",
       "      <td>Kd</td>\n",
       "      <td>=</td>\n",
       "      <td>1000.0</td>\n",
       "      <td>BRD-K92723993</td>\n",
       "    </tr>\n",
       "    <tr>\n",
       "      <th>23087</th>\n",
       "      <td>5291</td>\n",
       "      <td>KTUFNOKKBVMGRW-UHFFFAOYSA-N</td>\n",
       "      <td>O14976</td>\n",
       "      <td>22037378.0</td>\n",
       "      <td>pubchem_bioassay</td>\n",
       "      <td>Kd</td>\n",
       "      <td>=</td>\n",
       "      <td>1000.0</td>\n",
       "      <td>BRD-K92723993</td>\n",
       "    </tr>\n",
       "    <tr>\n",
       "      <th>23113</th>\n",
       "      <td>5291</td>\n",
       "      <td>KTUFNOKKBVMGRW-UHFFFAOYSA-N</td>\n",
       "      <td>O43570</td>\n",
       "      <td>19527930.0</td>\n",
       "      <td>pubchem_bioassay</td>\n",
       "      <td>Ki</td>\n",
       "      <td>=</td>\n",
       "      <td>980.0</td>\n",
       "      <td>BRD-K92723993</td>\n",
       "    </tr>\n",
       "    <tr>\n",
       "      <th>23173</th>\n",
       "      <td>5291</td>\n",
       "      <td>KTUFNOKKBVMGRW-UHFFFAOYSA-N</td>\n",
       "      <td>P00519</td>\n",
       "      <td>15711537.0</td>\n",
       "      <td>pubchem_bioassay</td>\n",
       "      <td>Kd</td>\n",
       "      <td>=</td>\n",
       "      <td>44.0</td>\n",
       "      <td>BRD-K92723993</td>\n",
       "    </tr>\n",
       "  </tbody>\n",
       "</table>\n",
       "</div>"
      ],
      "text/plain": [
       "       pubchem_cid                    inchi_key uniprot_id   pubmed_id  \\\n",
       "23067         5291  KTUFNOKKBVMGRW-UHFFFAOYSA-N     O00571  29191878.0   \n",
       "23086         5291  KTUFNOKKBVMGRW-UHFFFAOYSA-N     O14976  18183025.0   \n",
       "23087         5291  KTUFNOKKBVMGRW-UHFFFAOYSA-N     O14976  22037378.0   \n",
       "23113         5291  KTUFNOKKBVMGRW-UHFFFAOYSA-N     O43570  19527930.0   \n",
       "23173         5291  KTUFNOKKBVMGRW-UHFFFAOYSA-N     P00519  15711537.0   \n",
       "\n",
       "               database assay_type assay_relation  assay_value        pert_id  \n",
       "23067  pubchem_bioassay         Kd              =        435.0  BRD-K92723993  \n",
       "23086  pubchem_bioassay         Kd              =       1000.0  BRD-K92723993  \n",
       "23087  pubchem_bioassay         Kd              =       1000.0  BRD-K92723993  \n",
       "23113  pubchem_bioassay         Ki              =        980.0  BRD-K92723993  \n",
       "23173  pubchem_bioassay         Kd              =         44.0  BRD-K92723993  "
      ]
     },
     "execution_count": 9,
     "metadata": {},
     "output_type": "execute_result"
    }
   ],
   "source": [
    "tge = pd.read_csv('../../data/targetome_extended-01-23-25.csv').merge(clue_mapping, on='inchi_key', how='inner')\n",
    "\n",
    "\n",
    "tge = tge[lambda x: x.assay_type.isin(['Kd', 'Ki'])] # direct targets only \n",
    "tge = tge[lambda x: x.assay_relation.isin(['=', '<', '<='])] # exclude \">\" relations \n",
    "tge = tge[lambda x: x.assay_value <= 1000] # only targets with affinity <= 1000 nM \n",
    "tge = tge[lambda x: x.pert_id.isin(drugs)] # only drugs in our list\n",
    "tge = tge[lambda x: x.uniprot_id.isin(prot_uniprots)]\n",
    "\n",
    "dtis = tge[['pert_id', 'uniprot_id']].drop_duplicates().rename({'uniprot_id': 'target'}, axis=1)\n",
    "dtis = dtis.assign(target_name = ['PROTEIN__' + x for x in dtis.target.values]) # add prefix to match func_names\n",
    "\n",
    "print(tge.shape)\n",
    "tge.head()"
   ]
  },
  {
   "cell_type": "code",
   "execution_count": 10,
   "id": "18d04c5b",
   "metadata": {},
   "outputs": [
    {
     "data": {
      "text/plain": [
       "pert_id\n",
       "BRD-K42828737    188\n",
       "BRD-K99964838    117\n",
       "BRD-K49328571     89\n",
       "BRD-K81528515     46\n",
       "BRD-K44227013     37\n",
       "BRD-K92723993     22\n",
       "BRD-K51544265      9\n",
       "BRD-K33379087      4\n",
       "dtype: int64"
      ]
     },
     "execution_count": 10,
     "metadata": {},
     "output_type": "execute_result"
    }
   ],
   "source": [
    "# num targets per drug \n",
    "cnts = dtis.groupby('pert_id').size().sort_values(ascending=False)\n",
    "cnts"
   ]
  },
  {
   "cell_type": "code",
   "execution_count": 11,
   "id": "4205b4aa",
   "metadata": {},
   "outputs": [
    {
     "data": {
      "text/plain": [
       "set()"
      ]
     },
     "execution_count": 11,
     "metadata": {},
     "output_type": "execute_result"
    }
   ],
   "source": [
    "set(drugs) - set(dtis.pert_id.unique()) # drugs not in targetome"
   ]
  },
  {
   "cell_type": "code",
   "execution_count": 12,
   "id": "6829cb72",
   "metadata": {},
   "outputs": [
    {
     "data": {
      "text/html": [
       "<div>\n",
       "<style scoped>\n",
       "    .dataframe tbody tr th:only-of-type {\n",
       "        vertical-align: middle;\n",
       "    }\n",
       "\n",
       "    .dataframe tbody tr th {\n",
       "        vertical-align: top;\n",
       "    }\n",
       "\n",
       "    .dataframe thead th {\n",
       "        text-align: right;\n",
       "    }\n",
       "</style>\n",
       "<table border=\"1\" class=\"dataframe\">\n",
       "  <thead>\n",
       "    <tr style=\"text-align: right;\">\n",
       "      <th></th>\n",
       "      <th>pert_id</th>\n",
       "      <th>target</th>\n",
       "      <th>target_name</th>\n",
       "    </tr>\n",
       "  </thead>\n",
       "  <tbody>\n",
       "    <tr>\n",
       "      <th>23067</th>\n",
       "      <td>BRD-K92723993</td>\n",
       "      <td>O00571</td>\n",
       "      <td>PROTEIN__O00571</td>\n",
       "    </tr>\n",
       "    <tr>\n",
       "      <th>23086</th>\n",
       "      <td>BRD-K92723993</td>\n",
       "      <td>O14976</td>\n",
       "      <td>PROTEIN__O14976</td>\n",
       "    </tr>\n",
       "    <tr>\n",
       "      <th>23113</th>\n",
       "      <td>BRD-K92723993</td>\n",
       "      <td>O43570</td>\n",
       "      <td>PROTEIN__O43570</td>\n",
       "    </tr>\n",
       "    <tr>\n",
       "      <th>23173</th>\n",
       "      <td>BRD-K92723993</td>\n",
       "      <td>P00519</td>\n",
       "      <td>PROTEIN__P00519</td>\n",
       "    </tr>\n",
       "    <tr>\n",
       "      <th>23256</th>\n",
       "      <td>BRD-K92723993</td>\n",
       "      <td>P00915</td>\n",
       "      <td>PROTEIN__P00915</td>\n",
       "    </tr>\n",
       "  </tbody>\n",
       "</table>\n",
       "</div>"
      ],
      "text/plain": [
       "             pert_id  target      target_name\n",
       "23067  BRD-K92723993  O00571  PROTEIN__O00571\n",
       "23086  BRD-K92723993  O14976  PROTEIN__O14976\n",
       "23113  BRD-K92723993  O43570  PROTEIN__O43570\n",
       "23173  BRD-K92723993  P00519  PROTEIN__P00519\n",
       "23256  BRD-K92723993  P00915  PROTEIN__P00915"
      ]
     },
     "execution_count": 12,
     "metadata": {},
     "output_type": "execute_result"
    }
   ],
   "source": [
    "dtis.head()"
   ]
  },
  {
   "cell_type": "code",
   "execution_count": 13,
   "id": "3cedd6f5",
   "metadata": {},
   "outputs": [
    {
     "name": "stdout",
     "output_type": "stream",
     "text": [
      "filtering function nodes...\n",
      "function nodes retained: 1440.0/30856\n",
      "drug nodes retained: 8.0/8\n",
      "lincs nodes retained: 972.0/974\n"
     ]
    }
   ],
   "source": [
    "\n",
    "lincs = landmark_mapping.uniprot_id.values.tolist() # lincs genes \n",
    "\n",
    "# filter nodes that are not downstream of a drug AND do not have downstream LINCS genes \n",
    "# also filter targets that are no longer relevant \n",
    "func_names2, func_df2, targets2, drugs2, lincs2 = filter_func_nodes(func_names, func_df, dtis, lincs, drugs, filter_depth=4)\n"
   ]
  },
  {
   "cell_type": "code",
   "execution_count": 14,
   "id": "212cf346",
   "metadata": {},
   "outputs": [],
   "source": [
    "func2idx = {f:i for i,f in enumerate(func_names2)}\n",
    "func_df2 = func_df2.assign(src_idx = [func2idx[f] for f in func_df2.source.values])\n",
    "func_df2 = func_df2.assign(dst_idx = [func2idx[f] for f in func_df2.target.values])"
   ]
  },
  {
   "cell_type": "code",
   "execution_count": 24,
   "id": "97d3591a",
   "metadata": {},
   "outputs": [],
   "source": [
    "input_names = ['DRUG__' + p for p in drugs2] + ['LINE__' + c for c in lines] + ['GENE__' + g for g in gene_names] \n",
    "function_names = func_names2\n",
    "output_names = ['GENE__' + g for g in gene_names]\n",
    "\n",
    "input_name2idx = {n:i for i,n in enumerate(input_names)}\n",
    "output_name2idx = {n:i for i,n in enumerate(output_names)}\n",
    "function_name2idx = {n:i for i,n in enumerate(function_names)}"
   ]
  },
  {
   "cell_type": "code",
   "execution_count": 31,
   "id": "f3619169",
   "metadata": {},
   "outputs": [
    {
     "name": "stdout",
     "output_type": "stream",
     "text": [
      "No uniprot mapping for gene B4GAT1\n",
      "No uniprot mapping for gene CHP1\n",
      "No uniprot mapping for gene HDGFL3\n",
      "No uniprot mapping for gene ABCF3\n",
      "No uniprot mapping for gene PLSCR3\n",
      "No uniprot mapping for gene JPT2\n"
     ]
    },
    {
     "data": {
      "text/plain": [
       "torch.Size([2, 17170])"
      ]
     },
     "execution_count": 31,
     "metadata": {},
     "output_type": "execute_result"
    }
   ],
   "source": [
    "input_edge_list = [] \n",
    "\n",
    "# add drug edges \n",
    "for i, row in targets2.iterrows(): \n",
    "    if row.target_name in function_names: \n",
    "        input_edge_list.append(['DRUG__' + row.pert_id, row.target_name]) \n",
    "    else:\n",
    "        print(f'No function node for target {row.target} in drug {row.pert_id}')\n",
    "\n",
    "# add cell line edges (one edge to every function node)\n",
    "for line in lines: \n",
    "    for f in function_names: \n",
    "        input_edge_list.append(['LINE__' + line, f])\n",
    "\n",
    "for g in gene_names: \n",
    "    targ = landmark_map_dict.get(g, None) \n",
    "\n",
    "    if (targ is not None) and ('RNA__' + targ in function_names): \n",
    "        input_edge_list.append(['GENE__' + g, 'RNA__' + targ]) # gene to uniprot target edge\n",
    "    else: \n",
    "        print(f'No uniprot mapping for gene {g}') \n",
    "        # self loop as placeholder? \n",
    "\n",
    "row,col = np.array(input_edge_list).T\n",
    "row = [input_name2idx[r] for r in row]\n",
    "col = [function_name2idx[c] for c in col] \n",
    "\n",
    "input_edge_index = torch.tensor([row, col], dtype=torch.long) \n",
    "input_edge_index.shape\n",
    "    "
   ]
  },
  {
   "cell_type": "code",
   "execution_count": 33,
   "id": "d47029a8",
   "metadata": {},
   "outputs": [
    {
     "data": {
      "text/plain": [
       "torch.Size([2, 22982])"
      ]
     },
     "execution_count": 33,
     "metadata": {},
     "output_type": "execute_result"
    }
   ],
   "source": [
    "func_edge_list = [] \n",
    "\n",
    "func_edge_index = torch.stack([torch.tensor(func_df2.src_idx.values, dtype=torch.long),\n",
    "                              torch.tensor(func_df2.dst_idx.values, dtype=torch.long)], dim=0) \n",
    "\n",
    "func_edge_index.shape"
   ]
  },
  {
   "cell_type": "code",
   "execution_count": 34,
   "id": "295ee174",
   "metadata": {},
   "outputs": [
    {
     "name": "stdout",
     "output_type": "stream",
     "text": [
      "No uniprot mapping for gene B4GAT1\n",
      "No uniprot mapping for gene CHP1\n",
      "No uniprot mapping for gene HDGFL3\n",
      "No uniprot mapping for gene ABCF3\n",
      "No uniprot mapping for gene PLSCR3\n",
      "No uniprot mapping for gene JPT2\n"
     ]
    },
    {
     "data": {
      "text/plain": [
       "torch.Size([2, 972])"
      ]
     },
     "execution_count": 34,
     "metadata": {},
     "output_type": "execute_result"
    }
   ],
   "source": [
    "output_edge_list = [] \n",
    "\n",
    "for g in gene_names:\n",
    "    targ = landmark_map_dict.get(g, None) \n",
    "\n",
    "    if (targ is not None) and ('RNA__' + targ in function_names): \n",
    "        output_edge_list.append(['RNA__' + targ, 'GENE__' + g]) # gene to uniprot target edge\n",
    "    else: \n",
    "        print(f'No uniprot mapping for gene {g}') \n",
    "        # self loop as placeholder?\n",
    "\n",
    "row,col = np.array(output_edge_list).T\n",
    "row = [function_name2idx[r] for r in row]\n",
    "col = [output_name2idx[c] for c in col]\n",
    "output_edge_index = torch.tensor([row, col], dtype=torch.long)\n",
    "output_edge_index.shape"
   ]
  },
  {
   "cell_type": "code",
   "execution_count": 35,
   "id": "9061d059",
   "metadata": {},
   "outputs": [],
   "source": [
    "data = pyg.data.HeteroData() \n",
    "\n",
    "# create data \n",
    "data['edge_index_dict'] = {\n",
    "    ('input',       'to',           'function')     : input_edge_index, \n",
    "    ('function',    'to',           'function')     : func_edge_index, \n",
    "    ('function',    'to',           'output')       : output_edge_index, \n",
    "}\n",
    "\n",
    "\n",
    "data['node_names_dict'] = {'input':input_names,\n",
    "                            'function':func_names,\n",
    "                            'output':output_names}"
   ]
  },
  {
   "cell_type": "code",
   "execution_count": 36,
   "id": "2be2a82f",
   "metadata": {},
   "outputs": [],
   "source": [
    "torch.save(data, '../extdata/bionetwork.pt')"
   ]
  },
  {
   "cell_type": "code",
   "execution_count": null,
   "id": "7ae9987d",
   "metadata": {},
   "outputs": [],
   "source": []
  }
 ],
 "metadata": {
  "kernelspec": {
   "display_name": "gsnn-lib",
   "language": "python",
   "name": "python3"
  },
  "language_info": {
   "codemirror_mode": {
    "name": "ipython",
    "version": 3
   },
   "file_extension": ".py",
   "mimetype": "text/x-python",
   "name": "python",
   "nbconvert_exporter": "python",
   "pygments_lexer": "ipython3",
   "version": "3.12.8"
  }
 },
 "nbformat": 4,
 "nbformat_minor": 5
}
