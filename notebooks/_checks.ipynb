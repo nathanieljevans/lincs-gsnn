{
 "cells": [
  {
   "cell_type": "code",
   "execution_count": 1,
   "id": "b28440b6",
   "metadata": {},
   "outputs": [],
   "source": [
    "import torch \n",
    "import pandas as pd \n",
    "import numpy as np\n",
    "import os\n",
    "from lincs_gsnn.data.DXDTDataset import DXDTDataset\n",
    "from torch.utils.data import DataLoader \n",
    "\n",
    "from matplotlib import pyplot as plt\n",
    "from sklearn.metrics import r2_score\n",
    "\n",
    "import networkx as nx "
   ]
  },
  {
   "cell_type": "code",
   "execution_count": 7,
   "id": "6ed481db",
   "metadata": {},
   "outputs": [],
   "source": [
    "data = torch.load('/home/teddy/local/lincs-gsnn/workflow/runs/default/bionetwork/bionetwork.pt', weights_only=False)"
   ]
  },
  {
   "cell_type": "code",
   "execution_count": 11,
   "id": "330027f6",
   "metadata": {},
   "outputs": [],
   "source": [
    "drug = 'BRD-K33379087'"
   ]
  },
  {
   "cell_type": "code",
   "execution_count": 12,
   "id": "afdd4dcb",
   "metadata": {},
   "outputs": [],
   "source": [
    "inp_names   = data['node_names_dict']['input']\n",
    "func_names  = data['node_names_dict']['function']\n",
    "edge_mat    = data['edge_index_dict'][('input','to','function')]\n",
    "\n",
    "try:\n",
    "    drug_idx = inp_names.index(f\"DRUG__{drug}\")\n",
    "except ValueError:\n",
    "    raise KeyError(f\"{drug} not found among {len(inp_names)} input nodes\")\n",
    "\n",
    "src, dst         = edge_mat\n",
    "mask             = (src == drug_idx)\n",
    "drug_targets_idx = dst[mask].cpu().tolist()\n",
    "drug_targets     = [func_names[i] for i in drug_targets_idx]"
   ]
  },
  {
   "cell_type": "code",
   "execution_count": 13,
   "id": "1f5c3389",
   "metadata": {},
   "outputs": [
    {
     "data": {
      "text/plain": [
       "['PROTEIN__P08581']"
      ]
     },
     "execution_count": 13,
     "metadata": {},
     "output_type": "execute_result"
    }
   ],
   "source": [
    "drug_targets"
   ]
  },
  {
   "cell_type": "code",
   "execution_count": 15,
   "id": "5f8ab809",
   "metadata": {},
   "outputs": [
    {
     "data": {
      "text/html": [
       "<div>\n",
       "<style scoped>\n",
       "    .dataframe tbody tr th:only-of-type {\n",
       "        vertical-align: middle;\n",
       "    }\n",
       "\n",
       "    .dataframe tbody tr th {\n",
       "        vertical-align: top;\n",
       "    }\n",
       "\n",
       "    .dataframe thead th {\n",
       "        text-align: right;\n",
       "    }\n",
       "</style>\n",
       "<table border=\"1\" class=\"dataframe\">\n",
       "  <thead>\n",
       "    <tr style=\"text-align: right;\">\n",
       "      <th></th>\n",
       "      <th>pert_id</th>\n",
       "      <th>uniprot_id</th>\n",
       "    </tr>\n",
       "  </thead>\n",
       "  <tbody>\n",
       "    <tr>\n",
       "      <th>119923</th>\n",
       "      <td>BRD-K33379087</td>\n",
       "      <td>O60313</td>\n",
       "    </tr>\n",
       "    <tr>\n",
       "      <th>119924</th>\n",
       "      <td>BRD-K33379087</td>\n",
       "      <td>O60841</td>\n",
       "    </tr>\n",
       "    <tr>\n",
       "      <th>119958</th>\n",
       "      <td>BRD-K33379087</td>\n",
       "      <td>P08581</td>\n",
       "    </tr>\n",
       "    <tr>\n",
       "      <th>120003</th>\n",
       "      <td>BRD-K33379087</td>\n",
       "      <td>P30519</td>\n",
       "    </tr>\n",
       "  </tbody>\n",
       "</table>\n",
       "</div>"
      ],
      "text/plain": [
       "              pert_id uniprot_id\n",
       "119923  BRD-K33379087     O60313\n",
       "119924  BRD-K33379087     O60841\n",
       "119958  BRD-K33379087     P08581\n",
       "120003  BRD-K33379087     P30519"
      ]
     },
     "execution_count": 15,
     "metadata": {},
     "output_type": "execute_result"
    }
   ],
   "source": [
    "tge = pd.read_csv('../../data/targetome_extended-01-23-25.csv')\n",
    "druginfo = pd.read_csv('../../data/compoundinfo_beta.txt', sep='\\t')\n",
    "tge = tge.merge(druginfo[['inchi_key', 'pert_id']].drop_duplicates(), on='inchi_key')\n",
    "\n",
    "tge = tge[lambda x: x.pert_id == drug]\n",
    "tge = tge[lambda x: x.assay_type.isin(['Kd', 'Ki']) & (x.assay_relation.isin(['<', '<=', '=']) & (x.assay_value < 1000))][['pert_id','uniprot_id']].drop_duplicates()\n",
    "tge.head()"
   ]
  },
  {
   "cell_type": "code",
   "execution_count": null,
   "id": "66fe7c4a",
   "metadata": {},
   "outputs": [],
   "source": []
  }
 ],
 "metadata": {
  "kernelspec": {
   "display_name": "gsnn-lib",
   "language": "python",
   "name": "python3"
  },
  "language_info": {
   "codemirror_mode": {
    "name": "ipython",
    "version": 3
   },
   "file_extension": ".py",
   "mimetype": "text/x-python",
   "name": "python",
   "nbconvert_exporter": "python",
   "pygments_lexer": "ipython3",
   "version": "3.12.8"
  }
 },
 "nbformat": 4,
 "nbformat_minor": 5
}
